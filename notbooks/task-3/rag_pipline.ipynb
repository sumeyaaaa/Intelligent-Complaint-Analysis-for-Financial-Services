{
 "cells": [
  {
   "cell_type": "markdown",
   "id": "827c9320",
   "metadata": {},
   "source": [
    "## 🔍 RAG Pipeline Evaluation\n",
    "\n",
    "### 📌 Objective\n",
    "This notebook evaluates the performance of the Retrieval-Augmented Generation (RAG) system by running test queries and analyzing the quality of generated answers and supporting retrieved chunks.\n",
    "\n",
    "---\n",
    "\n",
    "### ⚙️ Setup\n",
    "\n",
    "- **Pipeline Module**: `RAGPipeline` (imported from `rag_pipeline.py`)\n",
    "- **Execution Style**: Interactive question/answer display using IPython Markdown for clarity.\n",
    "\n",
    "---\n",
    "\n",
    "### ❓ Test Questions\n",
    "\n",
    "The following representative questions were chosen to evaluate different financial products:\n",
    "\n",
    "1. **Why are customers unhappy with BNPL?**\n",
    "2. **What issues are reported with credit card disputes?**\n",
    "3. **Why do users complain about savings accounts?**\n",
    "\n",
    "These questions reflect common concerns across key product categories and help assess both retrieval accuracy and generation relevance.\n",
    "\n",
    "---\n",
    "\n",
    "### 🛠️ Evaluation Flow\n",
    "\n",
    "For each test question:\n",
    "\n",
    "1. The RAG pipeline:\n",
    "   - Embeds the question using the same embedding model as used during indexing.\n",
    "   - Performs vector similarity search in the FAISS index to retrieve top-matching complaint chunks.\n",
    "   - Combines the question and retrieved context into a prompt.\n",
    "   - Sends the prompt to a language model (LLM) to generate an answer.\n",
    "\n",
    "2. The notebook then:\n",
    "   - Displays the question and generated answer.\n",
    "   - Lists the top retrieved text chunks used as context.\n",
    "   - Uses `IPython.display.Markdown()` to present everything in a clean, readable format.\n",
    "\n",
    "---\n",
    "\n",
    "### 📋 Output Format (per Question)\n",
    "\n",
    "```markdown\n",
    "## ❓ Question\n",
    "<Your question here>\n",
    "\n",
    "###  Answer\n",
    "<Generated answer from LLM>\n",
    "\n",
    "###  Top Retrieved Chunks:\n",
    "**Chunk 1:**\n",
    "<First retrieved chunk>\n",
    "\n",
    "**Chunk 2:**\n",
    "<Second retrieved chunk>\n",
    "\n",
    "...\n"
   ]
  },
  {
   "cell_type": "code",
   "execution_count": 1,
   "id": "a1208bfc",
   "metadata": {},
   "outputs": [
    {
     "name": "stdout",
     "output_type": "stream",
     "text": [
      "src path added: c:\\Users\\ABC\\Desktop\\10Acadamy\\week_6\\Intelligent-Complaint-Analysis-for-Financial-Services\\src\n"
     ]
    }
   ],
   "source": [
    "import sys\n",
    "import os\n",
    "\n",
    "# Go two levels up from the notebook to the project root\n",
    "project_root = os.path.abspath(os.path.join(os.getcwd(), \"../..\"))\n",
    "\n",
    "# Join the path to 'src'\n",
    "src_path = os.path.join(project_root, \"src\")\n",
    "\n",
    "# Add 'src' to Python path\n",
    "if src_path not in sys.path:\n",
    "    sys.path.append(src_path)\n",
    "\n",
    "# Confirm it's added\n",
    "print(\"src path added:\", src_path)"
   ]
  },
  {
   "cell_type": "code",
   "execution_count": 2,
   "id": "114f52b1",
   "metadata": {},
   "outputs": [
    {
     "name": "stderr",
     "output_type": "stream",
     "text": [
      "c:\\Users\\ABC\\Desktop\\10Acadamy\\week_6\\Intelligent-Complaint-Analysis-for-Financial-Services\\venv\\Lib\\site-packages\\tqdm\\auto.py:21: TqdmWarning: IProgress not found. Please update jupyter and ipywidgets. See https://ipywidgets.readthedocs.io/en/stable/user_install.html\n",
      "  from .autonotebook import tqdm as notebook_tqdm\n",
      "Device set to use cpu\n",
      "Both `max_new_tokens` (=256) and `max_length`(=256) seem to have been set. `max_new_tokens` will take precedence. Please refer to the documentation for more information. (https://huggingface.co/docs/transformers/main/en/main_classes/text_generation)\n"
     ]
    },
    {
     "data": {
      "text/markdown": [
       "## ❓ Question\n",
       "Why are customers unhappy with BNPL?"
      ],
      "text/plain": [
       "<IPython.core.display.Markdown object>"
      ]
     },
     "metadata": {},
     "output_type": "display_data"
    },
    {
     "data": {
      "text/markdown": [
       "### 💬 Answer\n",
       "a lack of accountability and is neglecting their power as a company. saying everything is the consumers fault. industry, but less positive with customers."
      ],
      "text/plain": [
       "<IPython.core.display.Markdown object>"
      ]
     },
     "metadata": {},
     "output_type": "display_data"
    },
    {
     "data": {
      "text/markdown": [
       "### 📄 Top Retrieved Chunks:"
      ],
      "text/plain": [
       "<IPython.core.display.Markdown object>"
      ]
     },
     "metadata": {},
     "output_type": "display_data"
    },
    {
     "data": {
      "text/markdown": [
       "**Chunk 1:**\n",
       "not only contradict their own policies but also suggest a pattern of behavior that may mislead other consumers. my experience reflects significant procedural flaws that have led to undue financial stress and dissatisfaction. thank you for your prompt attention to this matter. i am ready to provide"
      ],
      "text/plain": [
       "<IPython.core.display.Markdown object>"
      ]
     },
     "metadata": {},
     "output_type": "display_data"
    },
    {
     "data": {
      "text/markdown": [
       "**Chunk 2:**\n",
       "customers do not face similar situations in the future."
      ],
      "text/plain": [
       "<IPython.core.display.Markdown object>"
      ]
     },
     "metadata": {},
     "output_type": "display_data"
    },
    {
     "data": {
      "text/markdown": [
       "**Chunk 3:**\n",
       "a lack of accountability and is neglecting their power as a company. saying everything is the consumers fault."
      ],
      "text/plain": [
       "<IPython.core.display.Markdown object>"
      ]
     },
     "metadata": {},
     "output_type": "display_data"
    },
    {
     "data": {
      "text/markdown": [
       "**Chunk 4:**\n",
       "industry, but less positive with customers. , consideration and concerns. xxxx, customer"
      ],
      "text/plain": [
       "<IPython.core.display.Markdown object>"
      ]
     },
     "metadata": {},
     "output_type": "display_data"
    },
    {
     "data": {
      "text/markdown": [
       "**Chunk 5:**\n",
       "so in addition to them using my money with out giving me credit, they are using automated systems and limiting the customer to be able to speak to someone who can provide service. it is a very poor customer service model, where in fact they are not really proving customer service they are just a"
      ],
      "text/plain": [
       "<IPython.core.display.Markdown object>"
      ]
     },
     "metadata": {},
     "output_type": "display_data"
    },
    {
     "name": "stderr",
     "output_type": "stream",
     "text": [
      "Both `max_new_tokens` (=256) and `max_length`(=256) seem to have been set. `max_new_tokens` will take precedence. Please refer to the documentation for more information. (https://huggingface.co/docs/transformers/main/en/main_classes/text_generation)\n"
     ]
    },
    {
     "data": {
      "text/markdown": [
       "## ❓ Question\n",
       "What issues are reported with credit card disputes?"
      ],
      "text/plain": [
       "<IPython.core.display.Markdown object>"
      ]
     },
     "metadata": {},
     "output_type": "display_data"
    },
    {
     "data": {
      "text/markdown": [
       "### 💬 Answer\n",
       "billing disputes involving unauthorized charges"
      ],
      "text/plain": [
       "<IPython.core.display.Markdown object>"
      ]
     },
     "metadata": {},
     "output_type": "display_data"
    },
    {
     "data": {
      "text/markdown": [
       "### 📄 Top Retrieved Chunks:"
      ],
      "text/plain": [
       "<IPython.core.display.Markdown object>"
      ]
     },
     "metadata": {},
     "output_type": "display_data"
    },
    {
     "data": {
      "text/markdown": [
       "**Chunk 1:**\n",
       "navigating the world of credit card disputes can be an overwhelming experience, especially when dealing with a bank that seems more intent on putting up hurdles than providing solutions. let me share my ongoing ordeal with bank of america, a once reputable institution now leaving me in a constant"
      ],
      "text/plain": [
       "<IPython.core.display.Markdown object>"
      ]
     },
     "metadata": {},
     "output_type": "display_data"
    },
    {
     "data": {
      "text/markdown": [
       "**Chunk 2:**\n",
       ", card issuers are required to investigate billing disputes involving unauthorized charges when properly notified and must refrain from collecting disputed amounts or reporting them as delinquent while the investigation is pending. continuing to request payment on a fraudulent balance potentially"
      ],
      "text/plain": [
       "<IPython.core.display.Markdown object>"
      ]
     },
     "metadata": {},
     "output_type": "display_data"
    },
    {
     "data": {
      "text/markdown": [
       "**Chunk 3:**\n",
       "keeping arguing with them or take any actions on the scene. there s nothing we can do but filling a dispute with credit card company on xxxx xx xx xxxx after we saw the transaction has been posted, and they declined the dispute on xxxx xxxx, and we further emailed information evidence on xxxx xxxx"
      ],
      "text/plain": [
       "<IPython.core.display.Markdown object>"
      ]
     },
     "metadata": {},
     "output_type": "display_data"
    },
    {
     "data": {
      "text/markdown": [
       "**Chunk 4:**\n",
       "i have a complaint about my credit card company. they have not properly handled several unauthorized charges. these were not handled as unauthorized transactions. my credit card company mishandled this event, they did not correct their behavior when notified, and they likely did not properly"
      ],
      "text/plain": [
       "<IPython.core.display.Markdown object>"
      ]
     },
     "metadata": {},
     "output_type": "display_data"
    },
    {
     "data": {
      "text/markdown": [
       "**Chunk 5:**\n",
       "on my understanding of the laws governing credit card issuers and my rights as a consumer, this action appears to be in violation of several federal regulations, and i am requesting an immediate review and correction of this matter. according to the credit card accountability, responsibility, and"
      ],
      "text/plain": [
       "<IPython.core.display.Markdown object>"
      ]
     },
     "metadata": {},
     "output_type": "display_data"
    },
    {
     "name": "stderr",
     "output_type": "stream",
     "text": [
      "Both `max_new_tokens` (=256) and `max_length`(=256) seem to have been set. `max_new_tokens` will take precedence. Please refer to the documentation for more information. (https://huggingface.co/docs/transformers/main/en/main_classes/text_generation)\n"
     ]
    },
    {
     "data": {
      "text/markdown": [
       "## ❓ Question\n",
       "Why do users complain about savings accounts?"
      ],
      "text/plain": [
       "<IPython.core.display.Markdown object>"
      ]
     },
     "metadata": {},
     "output_type": "display_data"
    },
    {
     "data": {
      "text/markdown": [
       "### 💬 Answer\n",
       "they think im joking. there are way better high yield savings accounts and checking accounts available"
      ],
      "text/plain": [
       "<IPython.core.display.Markdown object>"
      ]
     },
     "metadata": {},
     "output_type": "display_data"
    },
    {
     "data": {
      "text/markdown": [
       "### 📄 Top Retrieved Chunks:"
      ],
      "text/plain": [
       "<IPython.core.display.Markdown object>"
      ]
     },
     "metadata": {},
     "output_type": "display_data"
    },
    {
     "data": {
      "text/markdown": [
       "**Chunk 1:**\n",
       "they think im joking. there are way better high yield savings accounts and checking accounts available. i will not deal with a company that has a one size fits all fraud dispute policy which renders your bank account unusable while they investigate the fraud. no way. i am already eyeing up xxxx and"
      ],
      "text/plain": [
       "<IPython.core.display.Markdown object>"
      ]
     },
     "metadata": {},
     "output_type": "display_data"
    },
    {
     "data": {
      "text/markdown": [
       "**Chunk 2:**\n",
       "because i was trying to fund my saving accounts. fortunately this was only a small portion of assets, and only impacted access to savings that i don t need to access. but theirs is either the worst fraud detection algorithm in history, or they are uninterested in consumers doing what seems to be"
      ],
      "text/plain": [
       "<IPython.core.display.Markdown object>"
      ]
     },
     "metadata": {},
     "output_type": "display_data"
    },
    {
     "data": {
      "text/markdown": [
       "**Chunk 3:**\n",
       "fees. when i requested the accounts be closed, they did not close them until they saw fit. before the accounts were closed, they blocked my online access and i could not even monitor all the fees they were accessing. the savings account alone is negative over 200.00 from fees for a low balance,"
      ],
      "text/plain": [
       "<IPython.core.display.Markdown object>"
      ]
     },
     "metadata": {},
     "output_type": "display_data"
    },
    {
     "data": {
      "text/markdown": [
       "**Chunk 4:**\n",
       "savings was and would be its only high interest savings product and the cfpas prohibition on abusive acts and practices by taking unreasonable advantage of 360 savings account holders lack of understanding of the material risks and costs of the 360 savings product. the bureau seeks, among other"
      ],
      "text/plain": [
       "<IPython.core.display.Markdown object>"
      ]
     },
     "metadata": {},
     "output_type": "display_data"
    },
    {
     "data": {
      "text/markdown": [
       "**Chunk 5:**\n",
       "checking and savings accounts outright for very opaque reasons that didnt make any sense. i was reading online that capital one has a track record of being too comfortable with restricting and closing accounts when it comes to customers accessing their funds. i am now being told it will be many"
      ],
      "text/plain": [
       "<IPython.core.display.Markdown object>"
      ]
     },
     "metadata": {},
     "output_type": "display_data"
    }
   ],
   "source": [
    "\n",
    "from rag_pipeline import RAGPipeline\n",
    "from IPython.display import Markdown, display\n",
    "\n",
    "# Load RAG pipeline\n",
    "rag = RAGPipeline()\n",
    "\n",
    "# Define your test questions\n",
    "questions = [\n",
    "    \"Why are customers unhappy with BNPL?\",\n",
    "    \"What issues are reported with credit card disputes?\",\n",
    "    \"Why do users complain about savings accounts?\"\n",
    "]\n",
    "\n",
    "# Run the pipeline and display results\n",
    "for q in questions:\n",
    "    answer, chunks = rag.generate_answer(q)\n",
    "\n",
    "    display(Markdown(f\"## ❓ Question\\n{q}\"))\n",
    "    display(Markdown(f\"### 💬 Answer\\n{answer}\"))\n",
    "    display(Markdown(\"### 📄 Top Retrieved Chunks:\"))\n",
    "    for i, chunk in enumerate(chunks):\n",
    "        display(Markdown(f\"**Chunk {i+1}:**\\n{chunk}\"))\n"
   ]
  },
  {
   "cell_type": "code",
   "execution_count": null,
   "id": "2a65eb2c",
   "metadata": {},
   "outputs": [],
   "source": []
  }
 ],
 "metadata": {
  "kernelspec": {
   "display_name": "venv",
   "language": "python",
   "name": "python3"
  },
  "language_info": {
   "codemirror_mode": {
    "name": "ipython",
    "version": 3
   },
   "file_extension": ".py",
   "mimetype": "text/x-python",
   "name": "python",
   "nbconvert_exporter": "python",
   "pygments_lexer": "ipython3",
   "version": "3.13.2"
  }
 },
 "nbformat": 4,
 "nbformat_minor": 5
}
