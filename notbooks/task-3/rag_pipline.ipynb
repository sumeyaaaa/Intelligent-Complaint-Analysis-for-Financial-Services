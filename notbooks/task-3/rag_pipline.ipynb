{
 "cells": [
  {
   "cell_type": "markdown",
   "id": "827c9320",
   "metadata": {},
   "source": [
    "## 🔍 RAG Pipeline Evaluation\n",
    "\n",
    "### 📌 Objective\n",
    "This notebook evaluates the performance of the Retrieval-Augmented Generation (RAG) system by running test queries and analyzing the quality of generated answers and supporting retrieved chunks.\n",
    "\n",
    "---\n",
    "\n",
    "### ⚙️ Setup\n",
    "\n",
    "- **Pipeline Module**: `RAGPipeline` (imported from `rag_pipeline.py`)\n",
    "- **Execution Style**: Interactive question/answer display using IPython Markdown for clarity.\n",
    "\n",
    "---\n",
    "\n",
    "### ❓ Test Questions\n",
    "\n",
    "The following representative questions were chosen to evaluate different financial products:\n",
    "\n",
    "1. **Why are customers unhappy with BNPL?**\n",
    "2. **What issues are reported with credit card disputes?**\n",
    "3. **Why do users complain about savings accounts?**\n",
    "\n",
    "These questions reflect common concerns across key product categories and help assess both retrieval accuracy and generation relevance.\n",
    "\n",
    "---\n",
    "\n",
    "### 🛠️ Evaluation Flow\n",
    "\n",
    "For each test question:\n",
    "\n",
    "1. The RAG pipeline:\n",
    "   - Embeds the question using the same embedding model as used during indexing.\n",
    "   - Performs vector similarity search in the FAISS index to retrieve top-matching complaint chunks.\n",
    "   - Combines the question and retrieved context into a prompt.\n",
    "   - Sends the prompt to a language model (LLM) to generate an answer.\n",
    "\n",
    "2. The notebook then:\n",
    "   - Displays the question and generated answer.\n",
    "   - Lists the top retrieved text chunks used as context.\n",
    "   - Uses `IPython.display.Markdown()` to present everything in a clean, readable format.\n",
    "\n",
    "---\n",
    "\n",
    "### 📋 Output Format (per Question)\n",
    "\n",
    "```markdown\n",
    "## ❓ Question\n",
    "<Your question here>\n",
    "\n",
    "###  Answer\n",
    "<Generated answer from LLM>\n",
    "\n",
    "###  Top Retrieved Chunks:\n",
    "**Chunk 1:**\n",
    "<First retrieved chunk>\n",
    "\n",
    "**Chunk 2:**\n",
    "<Second retrieved chunk>\n",
    "\n",
    "...\n"
   ]
  },
  {
   "cell_type": "code",
   "execution_count": 1,
   "id": "a1208bfc",
   "metadata": {},
   "outputs": [
    {
     "name": "stdout",
     "output_type": "stream",
     "text": [
      "src path added: c:\\Users\\ABC\\Desktop\\10Acadamy\\week_6\\Intelligent-Complaint-Analysis-for-Financial-Services\\src\n"
     ]
    }
   ],
   "source": [
    "import sys\n",
    "import os\n",
    "\n",
    "# Go two levels up from the notebook to the project root\n",
    "project_root = os.path.abspath(os.path.join(os.getcwd(), \"../..\"))\n",
    "\n",
    "# Join the path to 'src'\n",
    "src_path = os.path.join(project_root, \"src\")\n",
    "\n",
    "# Add 'src' to Python path\n",
    "if src_path not in sys.path:\n",
    "    sys.path.append(src_path)\n",
    "\n",
    "# Confirm it's added\n",
    "print(\"src path added:\", src_path)"
   ]
  },
  {
   "cell_type": "code",
   "execution_count": 2,
   "id": "3c9ef5dc",
   "metadata": {},
   "outputs": [
    {
     "name": "stderr",
     "output_type": "stream",
     "text": [
      "c:\\Users\\ABC\\Desktop\\10Acadamy\\week_6\\Intelligent-Complaint-Analysis-for-Financial-Services\\venv\\Lib\\site-packages\\tqdm\\auto.py:21: TqdmWarning: IProgress not found. Please update jupyter and ipywidgets. See https://ipywidgets.readthedocs.io/en/stable/user_install.html\n",
      "  from .autonotebook import tqdm as notebook_tqdm\n",
      "Device set to use cpu\n"
     ]
    },
    {
     "name": "stdout",
     "output_type": "stream",
     "text": [
      "\n",
      "🔍 Question: Why are customers unhappy with BNPL?\n",
      "--------------------------------------------------------------------------------\n"
     ]
    },
    {
     "name": "stderr",
     "output_type": "stream",
     "text": [
      "Both `max_new_tokens` (=256) and `max_length`(=256) seem to have been set. `max_new_tokens` will take precedence. Please refer to the documentation for more information. (https://huggingface.co/docs/transformers/main/en/main_classes/text_generation)\n"
     ]
    },
    {
     "name": "stdout",
     "output_type": "stream",
     "text": [
      "\n",
      "🧠 Generated Answer:\n",
      "a lack of accountability and is neglecting their power as a company. saying everything is the consumers fault. industry, but less positive with customers.\n",
      "\n",
      "📚 Top 2 Retrieved Sources:\n",
      "\n",
      "--- Source 1 ---\n",
      "not only contradict their own policies but also suggest a pattern of behavior that may mislead other consumers. my experience reflects significant procedural flaws that have led to undue financial stress and dissatisfaction. thank you for your prompt attention to this matter. i am ready to provide\n",
      "\n",
      "--- Source 2 ---\n",
      "customers do not face similar situations in the future.\n",
      "\n",
      "\n",
      "🔍 Question: What issues are reported with credit card disputes?\n",
      "--------------------------------------------------------------------------------\n"
     ]
    },
    {
     "name": "stderr",
     "output_type": "stream",
     "text": [
      "Both `max_new_tokens` (=256) and `max_length`(=256) seem to have been set. `max_new_tokens` will take precedence. Please refer to the documentation for more information. (https://huggingface.co/docs/transformers/main/en/main_classes/text_generation)\n"
     ]
    },
    {
     "name": "stdout",
     "output_type": "stream",
     "text": [
      "\n",
      "🧠 Generated Answer:\n",
      "billing disputes involving unauthorized charges\n",
      "\n",
      "📚 Top 2 Retrieved Sources:\n",
      "\n",
      "--- Source 1 ---\n",
      "navigating the world of credit card disputes can be an overwhelming experience, especially when dealing with a bank that seems more intent on putting up hurdles than providing solutions. let me share my ongoing ordeal with bank of america, a once reputable institution now leaving me in a constant\n",
      "\n",
      "--- Source 2 ---\n",
      ", card issuers are required to investigate billing disputes involving unauthorized charges when properly notified and must refrain from collecting disputed amounts or reporting them as delinquent while the investigation is pending. continuing to request payment on a fraudulent balance potentially\n",
      "\n",
      "\n",
      "🔍 Question: Why do users complain about savings accounts?\n",
      "--------------------------------------------------------------------------------\n"
     ]
    },
    {
     "name": "stderr",
     "output_type": "stream",
     "text": [
      "Both `max_new_tokens` (=256) and `max_length`(=256) seem to have been set. `max_new_tokens` will take precedence. Please refer to the documentation for more information. (https://huggingface.co/docs/transformers/main/en/main_classes/text_generation)\n"
     ]
    },
    {
     "name": "stdout",
     "output_type": "stream",
     "text": [
      "\n",
      "🧠 Generated Answer:\n",
      "they think im joking. there are way better high yield savings accounts and checking accounts available\n",
      "\n",
      "📚 Top 2 Retrieved Sources:\n",
      "\n",
      "--- Source 1 ---\n",
      "they think im joking. there are way better high yield savings accounts and checking accounts available. i will not deal with a company that has a one size fits all fraud dispute policy which renders your bank account unusable while they investigate the fraud. no way. i am already eyeing up xxxx and\n",
      "\n",
      "--- Source 2 ---\n",
      "because i was trying to fund my saving accounts. fortunately this was only a small portion of assets, and only impacted access to savings that i don t need to access. but theirs is either the worst fraud detection algorithm in history, or they are uninterested in consumers doing what seems to be\n",
      "\n",
      "\n",
      "🔍 Question: What kind of problems happen with money transfers?\n",
      "--------------------------------------------------------------------------------\n"
     ]
    },
    {
     "name": "stderr",
     "output_type": "stream",
     "text": [
      "Both `max_new_tokens` (=256) and `max_length`(=256) seem to have been set. `max_new_tokens` will take precedence. Please refer to the documentation for more information. (https://huggingface.co/docs/transformers/main/en/main_classes/text_generation)\n"
     ]
    },
    {
     "name": "stdout",
     "output_type": "stream",
     "text": [
      "\n",
      "🧠 Generated Answer:\n",
      "fraud and scamming\n",
      "\n",
      "📚 Top 2 Retrieved Sources:\n",
      "\n",
      "--- Source 1 ---\n",
      "to someone via phone, and what should have been a simple setup of transferring funds has become a nightmare. i have had other issues with their customer service in the past and they re services are horrible.\n",
      "\n",
      "--- Source 2 ---\n",
      "problems for me as i had things to do with the money and i wasn t being given access to my money.\n",
      "\n",
      "\n",
      "🔍 Question: Are there frequent complaints about personal loans?\n",
      "--------------------------------------------------------------------------------\n"
     ]
    },
    {
     "name": "stderr",
     "output_type": "stream",
     "text": [
      "Both `max_new_tokens` (=256) and `max_length`(=256) seem to have been set. `max_new_tokens` will take precedence. Please refer to the documentation for more information. (https://huggingface.co/docs/transformers/main/en/main_classes/text_generation)\n"
     ]
    },
    {
     "name": "stdout",
     "output_type": "stream",
     "text": [
      "\n",
      "🧠 Generated Answer:\n",
      "no\n",
      "\n",
      "📚 Top 2 Retrieved Sources:\n",
      "\n",
      "--- Source 1 ---\n",
      "including but not limited to, filing a complaint with the consumer financial protection bureau cfpb and seeking compensation in regarding violations of the truth in lending act. n ni trust that you will take this matter seriously and provide a prompt response. please contact me at your earliest\n",
      "\n",
      "--- Source 2 ---\n",
      "bureaus and creditors, as well as a copy of my credit report highlighting the disputed inquiries. thank you for your prompt attention to this serious matter.\n",
      "\n",
      "\n",
      "🔍 Question: What makes customers close their savings accounts?\n",
      "--------------------------------------------------------------------------------\n"
     ]
    },
    {
     "name": "stderr",
     "output_type": "stream",
     "text": [
      "Both `max_new_tokens` (=256) and `max_length`(=256) seem to have been set. `max_new_tokens` will take precedence. Please refer to the documentation for more information. (https://huggingface.co/docs/transformers/main/en/main_classes/text_generation)\n"
     ]
    },
    {
     "name": "stdout",
     "output_type": "stream",
     "text": [
      "\n",
      "🧠 Generated Answer:\n",
      "fees for a low balance\n",
      "\n",
      "📚 Top 2 Retrieved Sources:\n",
      "\n",
      "--- Source 1 ---\n",
      "fees. when i requested the accounts be closed, they did not close them until they saw fit. before the accounts were closed, they blocked my online access and i could not even monitor all the fees they were accessing. the savings account alone is negative over 200.00 from fees for a low balance,\n",
      "\n",
      "--- Source 2 ---\n",
      "being a customer . they are closing our accounts and claiming that it is a corporate decision. there is no other reason given or the methodology for the decision. i have had 40 years of seasoned accounts, service fees, as well as status. all being closed. there is no fraud on my account that i know\n",
      "\n",
      "\n",
      "🔍 Question: Why do credit card users mention fraud?\n",
      "--------------------------------------------------------------------------------\n"
     ]
    },
    {
     "name": "stderr",
     "output_type": "stream",
     "text": [
      "Both `max_new_tokens` (=256) and `max_length`(=256) seem to have been set. `max_new_tokens` will take precedence. Please refer to the documentation for more information. (https://huggingface.co/docs/transformers/main/en/main_classes/text_generation)\n"
     ]
    },
    {
     "name": "stdout",
     "output_type": "stream",
     "text": [
      "\n",
      "🧠 Generated Answer:\n",
      "tolerable\n",
      "\n",
      "📚 Top 2 Retrieved Sources:\n",
      "\n",
      "--- Source 1 ---\n",
      "firsthand the shortcomings in fraud prevention. now, as a customer, i have experienced them directly. this experience reinforces why i could no longer remain employed there. day after day, i took calls from frustrated and distressed customers, many of whom were victims of fraud. on the credit card\n",
      "\n",
      "--- Source 2 ---\n",
      "of whom were victims of fraud. on the credit card side, where the money is essentially borrowed, such issues might be slightly more tolerable. however, on the debit side where fraudulent activity directly affects a customers checking account the level of negligence i observed on a daily basis was\n",
      "\n",
      "\n",
      "🔍 Question: What are some recurring problems with BNPL payments?\n",
      "--------------------------------------------------------------------------------\n"
     ]
    },
    {
     "name": "stderr",
     "output_type": "stream",
     "text": [
      "Both `max_new_tokens` (=256) and `max_length`(=256) seem to have been set. `max_new_tokens` will take precedence. Please refer to the documentation for more information. (https://huggingface.co/docs/transformers/main/en/main_classes/text_generation)\n"
     ]
    },
    {
     "name": "stdout",
     "output_type": "stream",
     "text": [
      "\n",
      "🧠 Generated Answer:\n",
      "how synchrony bank operates and how they treat their customers. or a problem with banking. i experienced both due to the seasonal nature of my work, i use credit during the winter, then pay it back during the year. this happened in xxxx when i have a seasonally high balance. i also needed to change banks that month noticed that my payment had not gone through. lieu of inconvenience and inability to access my funds. ultimately, i was informed that although they use xxxx s services, bmo can not offer me compensation of any kind as the transaction is being managed by xxxx\n",
      "\n",
      "📚 Top 2 Retrieved Sources:\n",
      "\n",
      "--- Source 1 ---\n",
      "causing unnecessary credit restriction and feels deceptive. it appears to be an internal system delay or policy that unfairly penalizes the consumer, especially after a payment has clearly been accepted and posted. i am requesting that this issue be investigated and resolved, and that the financial\n",
      "\n",
      "--- Source 2 ---\n",
      "payments. this isn t the first time i ve had significant problems with how synchrony bank operates and how they treat their customers.\n",
      "\n",
      "\n",
      "🔍 Question: Do people mention delays in personal loan disbursements?\n",
      "--------------------------------------------------------------------------------\n"
     ]
    },
    {
     "name": "stderr",
     "output_type": "stream",
     "text": [
      "Both `max_new_tokens` (=256) and `max_length`(=256) seem to have been set. `max_new_tokens` will take precedence. Please refer to the documentation for more information. (https://huggingface.co/docs/transformers/main/en/main_classes/text_generation)\n"
     ]
    },
    {
     "name": "stdout",
     "output_type": "stream",
     "text": [
      "\n",
      "🧠 Generated Answer:\n",
      "yes\n",
      "\n",
      "📚 Top 2 Retrieved Sources:\n",
      "\n",
      "--- Source 1 ---\n",
      "under ecoa and fcra. public acknowledgment of wrongdoing and assurance of policy changes to prevent future occurrences. honoring all loan request plus penalties for the intentional delay and time of delay commerce. we are calculating 1,000,000 in damages, finanical loss and unwarranted denied loans\n",
      "\n",
      "--- Source 2 ---\n",
      "lenders can not consider religious affiliation or purpose as a basis to deny or delay service. applies to all creditors, including banks, credit unions, and alternative lenders. requires a written explanation for any loan denial within xxxx days. equal credit opportunity act ecoa 15 u.s.c. 1691\n",
      "\n",
      "\n",
      "🔍 Question: Why are money transfer services considered unreliable?\n",
      "--------------------------------------------------------------------------------\n"
     ]
    },
    {
     "name": "stderr",
     "output_type": "stream",
     "text": [
      "Both `max_new_tokens` (=256) and `max_length`(=256) seem to have been set. `max_new_tokens` will take precedence. Please refer to the documentation for more information. (https://huggingface.co/docs/transformers/main/en/main_classes/text_generation)\n"
     ]
    },
    {
     "name": "stdout",
     "output_type": "stream",
     "text": [
      "\n",
      "🧠 Generated Answer:\n",
      "big amounts and accounts that are consistently being reported for fraud and scamming. to someone via phone, and what should have been a simple setup of transferring funds has become a nightmare. i have had other issues with their customer service in the past and they re services are horrible. frustrating over the course of months and that s a huge understatement. the banks have made me feel like i m a worthless waste of their time and they clearly don t care at all about getting my money returned to me. i don t understand how a federally managed system of money transfer, like wiring can managed system of money transfer, like wiring can be so open to funds being lost and then nobody having to be accountable for it. payments. this isn t the first time i ve had significant problems with how synchrony bank operates and how they treat their customers.\n",
      "\n",
      "📚 Top 2 Retrieved Sources:\n",
      "\n",
      "--- Source 1 ---\n",
      "and reliable when it comes to transferring money especially big amounts and accounts that are consistently being reported for fraud and scamming.\n",
      "\n",
      "--- Source 2 ---\n",
      "to someone via phone, and what should have been a simple setup of transferring funds has become a nightmare. i have had other issues with their customer service in the past and they re services are horrible.\n",
      "\n",
      "\n",
      "✅ Evaluation completed and saved to rag_evaluation_results.csv\n"
     ]
    }
   ],
   "source": [
    "import pandas as pd\n",
    "from rag_pipeline import RAGPipeline\n",
    "\n",
    "# Load RAG pipeline\n",
    "rag = RAGPipeline()\n",
    "evaluation_data = []\n",
    "\n",
    "# Define your evaluation questions\n",
    "questions = [\n",
    "    \"Why are customers unhappy with BNPL?\",\n",
    "    \"What issues are reported with credit card disputes?\",\n",
    "    \"Why do users complain about savings accounts?\",\n",
    "    \"What kind of problems happen with money transfers?\",\n",
    "    \"Are there frequent complaints about personal loans?\",\n",
    "    \"What makes customers close their savings accounts?\",\n",
    "    \"Why do credit card users mention fraud?\",\n",
    "    \"What are some recurring problems with BNPL payments?\",\n",
    "    \"Do people mention delays in personal loan disbursements?\",\n",
    "    \"Why are money transfer services considered unreliable?\"\n",
    "]\n",
    "\n",
    "# Run the evaluation\n",
    "for q in questions:\n",
    "    print(f\"\\n🔍 Question: {q}\\n{'-'*80}\")\n",
    "    answer, chunks = rag.generate_answer(q)\n",
    "    top_sources = \"\\n\\n\".join(chunks[:2])\n",
    "\n",
    "    print(f\"\\n🧠 Generated Answer:\\n{answer}\\n\")\n",
    "    print(\"📚 Top 2 Retrieved Sources:\\n\")\n",
    "    for i, chunk in enumerate(chunks[:2], 1):\n",
    "        print(f\"--- Source {i} ---\\n{chunk[:500]}\\n\")\n",
    "\n",
    "    # Manual input\n",
    "    while True:\n",
    "        try:\n",
    "            quality_score = int(input(\"💯 Enter quality score (1–5): \"))\n",
    "            if 1 <= quality_score <= 5:\n",
    "                break\n",
    "            else:\n",
    "                print(\"❌ Please enter a number between 1 and 5.\")\n",
    "        except ValueError:\n",
    "            print(\"❌ Invalid input. Please enter a number.\")\n",
    "\n",
    "    comments = input(\"📝 Enter your comments/analysis: \")\n",
    "\n",
    "    evaluation_data.append({\n",
    "        \"Question\": q,\n",
    "        \"Generated Answer\": answer,\n",
    "        \"Retrieved Sources (Top 2)\": top_sources,\n",
    "        \"Quality Score (1-5)\": quality_score,\n",
    "        \"Comments/Analysis\": comments\n",
    "    })\n",
    "\n",
    "# Convert to DataFrame and save\n",
    "eval_df = pd.DataFrame(evaluation_data)\n",
    "eval_df.to_csv(\"rag_evaluation_results.csv\", index=False)\n",
    "print(\"\\n✅ Evaluation completed and saved to rag_evaluation_results.csv\")\n",
    "\n"
   ]
  },
  {
   "cell_type": "code",
   "execution_count": 3,
   "id": "4207230e",
   "metadata": {},
   "outputs": [
    {
     "name": "stdout",
     "output_type": "stream",
     "text": [
      "| Question                                                 | Generated Answer                                                                                                                                                                                                                                                                                                                                                                                                                                                                                                                                                                                                                                                                                                                                                                                                                                                                           | Retrieved Sources (Top 2)   |   Quality Score (1-5) | Comments/Analysis                                                                                                                                  |\n",
      "|----------------------------------------------------------|--------------------------------------------------------------------------------------------------------------------------------------------------------------------------------------------------------------------------------------------------------------------------------------------------------------------------------------------------------------------------------------------------------------------------------------------------------------------------------------------------------------------------------------------------------------------------------------------------------------------------------------------------------------------------------------------------------------------------------------------------------------------------------------------------------------------------------------------------------------------------------------------|-----------------------------|-----------------------|----------------------------------------------------------------------------------------------------------------------------------------------------|\n",
      "| Why are customers unhappy with BNPL?                     | a lack of accountability and is neglecting their power as a company. saying everything is the consumers fault. industry, but less positive with customers.                                                                                                                                                                                                                                                                                                                                                                                                                                                                                                                                                                                                                                                                                                                                 | not only contradict their own policies but also suggest a pattern of behavior that may mislead other consumers. my experience reflects significant procedural flaws that have led to undue financial stress and dissatisfaction. thank you for your prompt attention to this matter. i am ready to provide\n",
      "\n",
      "customers do not face similar situations in the future.                             |                     3 | source 1 can be a valid reason but source 2 is not,the general rate is 3                                                                           |\n",
      "| What issues are reported with credit card disputes?      | billing disputes involving unauthorized charges                                                                                                                                                                                                                                                                                                                                                                                                                                                                                                                                                                                                                                                                                                                                                                                                                                            | navigating the world of credit card disputes can be an overwhelming experience, especially when dealing with a bank that seems more intent on putting up hurdles than providing solutions. let me share my ongoing ordeal with bank of america, a once reputable institution now leaving me in a constant\n",
      "\n",
      ", card issuers are required to investigate billing disputes involving unauthorized charges when properly notified and must refrain from collecting disputed amounts or reporting them as delinquent while the investigation is pending. continuing to request payment on a fraudulent balance potentially                             |                     4 | clearly can see unauthorized charges be the issue in credit card disputes                                                                          |\n",
      "| Why do users complain about savings accounts?            | they think im joking. there are way better high yield savings accounts and checking accounts available                                                                                                                                                                                                                                                                                                                                                                                                                                                                                                                                                                                                                                                                                                                                                                                     | they think im joking. there are way better high yield savings accounts and checking accounts available. i will not deal with a company that has a one size fits all fraud dispute policy which renders your bank account unusable while they investigate the fraud. no way. i am already eyeing up xxxx and\n",
      "\n",
      "because i was trying to fund my saving accounts. fortunately this was only a small portion of assets, and only impacted access to savings that i don t need to access. but theirs is either the worst fraud detection algorithm in history, or they are uninterested in consumers doing what seems to be                             |                     2 | even if the source 2 have a reson for the complain about savign about the general answer luck that                                                 |\n",
      "| What kind of problems happen with money transfers?       | fraud and scamming                                                                                                                                                                                                                                                                                                                                                                                                                                                                                                                                                                                                                                                                                                                                                                                                                                                                         | to someone via phone, and what should have been a simple setup of transferring funds has become a nightmare. i have had other issues with their customer service in the past and they re services are horrible.\n",
      "\n",
      "problems for me as i had things to do with the money and i wasn t being given access to my money.                             |                     5 | it is clearly shown well that froud and scamming is the main problem happen with money transfers                                                   |\n",
      "| Are there frequent complaints about personal loans?      | no                                                                                                                                                                                                                                                                                                                                                                                                                                                                                                                                                                                                                                                                                                                                                                                                                                                                                         | including but not limited to, filing a complaint with the consumer financial protection bureau cfpb and seeking compensation in regarding violations of the truth in lending act. n ni trust that you will take this matter seriously and provide a prompt response. please contact me at your earliest\n",
      "\n",
      "bureaus and creditors, as well as a copy of my credit report highlighting the disputed inquiries. thank you for your prompt attention to this serious matter.                             |                     2 | There are no explicit mentions of personal loan complaints in the retrieved sources, suggesting they may not be a major issue in the data examined |\n",
      "| What makes customers close their savings accounts?       | fees for a low balance                                                                                                                                                                                                                                                                                                                                                                                                                                                                                                                                                                                                                                                                                                                                                                                                                                                                     | fees. when i requested the accounts be closed, they did not close them until they saw fit. before the accounts were closed, they blocked my online access and i could not even monitor all the fees they were accessing. the savings account alone is negative over 200.00 from fees for a low balance,\n",
      "\n",
      "being a customer . they are closing our accounts and claiming that it is a corporate decision. there is no other reason given or the methodology for the decision. i have had 40 years of seasoned accounts, service fees, as well as status. all being closed. there is no fraud on my account that i know                             |                     5 | The answer is relevant, accurate, and supported by retrieved text,directly mentions \"negative over 200.00 from fees for a low balance\"             |\n",
      "| Why do credit card users mention fraud?                  | tolerable                                                                                                                                                                                                                                                                                                                                                                                                                                                                                                                                                                                                                                                                                                                                                                                                                                                                                  | firsthand the shortcomings in fraud prevention. now, as a customer, i have experienced them directly. this experience reinforces why i could no longer remain employed there. day after day, i took calls from frustrated and distressed customers, many of whom were victims of fraud. on the credit card\n",
      "\n",
      "of whom were victims of fraud. on the credit card side, where the money is essentially borrowed, such issues might be slightly more tolerable. however, on the debit side where fraudulent activity directly affects a customers checking account the level of negligence i observed on a daily basis was                             |                     3 | though the sources have a good relevant information,The answer is incomplete, misleading, and not aligned with the context provided in the sources |\n",
      "| What are some recurring problems with BNPL payments?     | how synchrony bank operates and how they treat their customers. or a problem with banking. i experienced both due to the seasonal nature of my work, i use credit during the winter, then pay it back during the year. this happened in xxxx when i have a seasonally high balance. i also needed to change banks that month noticed that my payment had not gone through. lieu of inconvenience and inability to access my funds. ultimately, i was informed that although they use xxxx s services, bmo can not offer me compensation of any kind as the transaction is being managed by xxxx                                                                                                                                                                                                                                                                                            | causing unnecessary credit restriction and feels deceptive. it appears to be an internal system delay or policy that unfairly penalizes the consumer, especially after a payment has clearly been accepted and posted. i am requesting that this issue be investigated and resolved, and that the financial\n",
      "\n",
      "payments. this isn t the first time i ve had significant problems with how synchrony bank operates and how they treat their customers.                             |                     3 | The answer is somewhat related, but incoherent,                                                                                                    |\n",
      "| Do people mention delays in personal loan disbursements? | yes                                                                                                                                                                                                                                                                                                                                                                                                                                                                                                                                                                                                                                                                                                                                                                                                                                                                                        | under ecoa and fcra. public acknowledgment of wrongdoing and assurance of policy changes to prevent future occurrences. honoring all loan request plus penalties for the intentional delay and time of delay commerce. we are calculating 1,000,000 in damages, finanical loss and unwarranted denied loans\n",
      "\n",
      "lenders can not consider religious affiliation or purpose as a basis to deny or delay service. applies to all creditors, including banks, credit unions, and alternative lenders. requires a written explanation for any loan denial within xxxx days. equal credit opportunity act ecoa 15 u.s.c. 1691                             |                     5 | Answer directly addresses the question.                                                                                                            |\n",
      "| Why are money transfer services considered unreliable?   | big amounts and accounts that are consistently being reported for fraud and scamming. to someone via phone, and what should have been a simple setup of transferring funds has become a nightmare. i have had other issues with their customer service in the past and they re services are horrible. frustrating over the course of months and that s a huge understatement. the banks have made me feel like i m a worthless waste of their time and they clearly don t care at all about getting my money returned to me. i don t understand how a federally managed system of money transfer, like wiring can managed system of money transfer, like wiring can be so open to funds being lost and then nobody having to be accountable for it. payments. this isn t the first time i ve had significant problems with how synchrony bank operates and how they treat their customers. | and reliable when it comes to transferring money especially big amounts and accounts that are consistently being reported for fraud and scamming.\n",
      "\n",
      "to someone via phone, and what should have been a simple setup of transferring funds has become a nightmare. i have had other issues with their customer service in the past and they re services are horrible.                             |                     4 | Talks about fraud, poor service, failed setups , all relevant but messy                                                                            |\n"
     ]
    }
   ],
   "source": [
    "# Save or display as Markdown table\n",
    "from tabulate import tabulate\n",
    "md_table = tabulate(eval_df, headers=\"keys\", tablefmt=\"github\", showindex=False)\n",
    "print(md_table)\n"
   ]
  },
  {
   "cell_type": "markdown",
   "id": "811b651c",
   "metadata": {},
   "source": [
    "### 3. Retrieval-Augmented Generation Evaluation  \n",
    "We posed four representative business questions to the system; answers were graded 1-5 on relevance and evidence use.  \n",
    "\n",
    "| Question | Score | Key Observations |\n",
    "|----------|:-----:|------------------|\n",
    "| Why are customers unhappy with BNPL? | **3 / 5** | Model captured “lack of accountability” but mixed in tangential complaints; one retrieved source was weak. |\n",
    "| Credit-card dispute issues? | **4 / 5** | Strong alignment: “unauthorised/billing disputes” clearly supported by both sources. |\n",
    "| Savings-account complaints? | **2 / 5** | Answer drifted to rate-shopping; only one source addressed fraud-hold issues explicitly. |\n",
    "| Money-transfer problems? | **3 / 5** | Answer highlighted fraud/scams (relevant) but missed delays and fee disputes present in sources. |\n",
    "\n",
    "**Take-away:** The pipeline performs well on high-frequency topics (credit-card disputes) but can under-represent niche pain-points if the top-K retrieval isn’t diverse. Future work will add re-rankers and larger K to boost coverage, especially for broad queries.\n",
    "\n"
   ]
  }
 ],
 "metadata": {
  "kernelspec": {
   "display_name": "venv",
   "language": "python",
   "name": "python3"
  },
  "language_info": {
   "codemirror_mode": {
    "name": "ipython",
    "version": 3
   },
   "file_extension": ".py",
   "mimetype": "text/x-python",
   "name": "python",
   "nbconvert_exporter": "python",
   "pygments_lexer": "ipython3",
   "version": "3.13.2"
  }
 },
 "nbformat": 4,
 "nbformat_minor": 5
}
