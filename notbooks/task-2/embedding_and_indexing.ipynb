{
 "cells": [
  {
   "cell_type": "markdown",
   "id": "5a03f949",
   "metadata": {},
   "source": [
    "##  Embedding and Indexing Script\n",
    "\n",
    "###  Objective\n",
    "This notebook processes consumer complaint narratives by:\n",
    "1. Chunking the text data using a consistent strategy.\n",
    "2. Embedding each chunk using a pre-defined embedding model.\n",
    "3. Storing the embeddings in a FAISS vector index along with associated metadata for future semantic search and retrieval.\n"
   ]
  },
  {
   "cell_type": "code",
   "execution_count": 1,
   "id": "30d75379",
   "metadata": {},
   "outputs": [
    {
     "name": "stdout",
     "output_type": "stream",
     "text": [
      "src path added: c:\\Users\\ABC\\Desktop\\10Acadamy\\week_6\\Intelligent-Complaint-Analysis-for-Financial-Services\\src\n"
     ]
    }
   ],
   "source": [
    "import sys\n",
    "import os\n",
    "\n",
    "# Go two levels up from the notebook to the project root\n",
    "project_root = os.path.abspath(os.path.join(os.getcwd(), \"../..\"))\n",
    "\n",
    "# Join the path to 'src'\n",
    "src_path = os.path.join(project_root, \"src\")\n",
    "\n",
    "# Add 'src' to Python path\n",
    "if src_path not in sys.path:\n",
    "    sys.path.append(src_path)\n",
    "\n",
    "# Confirm it's added\n",
    "print(\"src path added:\", src_path)\n"
   ]
  },
  {
   "cell_type": "markdown",
   "id": "c13da4d2",
   "metadata": {},
   "source": [
    "### ⚙️ Configuration\n",
    "\n",
    "- **Input File**:  \n",
    "  `complaints_clean.csv`  \n",
    "  Path:  \n",
    "  `C:\\Users\\ABC\\Desktop\\10Acadamy\\week_6\\Intelligent-Complaint-Analysis-for-Financial-Services\\data\\clean\\complaints_clean.csv`\n",
    "\n",
    "- **Chunking Parameters**:\n",
    "  - `chunk_size = 300`\n",
    "  - `chunk_overlap = 50`\n",
    "  - `chunks_per_loop = 1000`\n",
    "  - `sample_limit = 5000` (samples total to process)\n",
    "\n",
    "- **Output Paths**:\n",
    "  - FAISS Index:  \n",
    "    `vector_store/index_300_50.faiss`\n",
    "  - Metadata CSV:  \n",
    "    `vector_store/meta_300_50.csv`\n",
    "\n",
    "---\n"
   ]
  },
  {
   "cell_type": "code",
   "execution_count": 2,
   "id": "0cd10d7c",
   "metadata": {},
   "outputs": [
    {
     "name": "stderr",
     "output_type": "stream",
     "text": [
      "c:\\Users\\ABC\\Desktop\\10Acadamy\\week_6\\Intelligent-Complaint-Analysis-for-Financial-Services\\venv\\Lib\\site-packages\\tqdm\\auto.py:21: TqdmWarning: IProgress not found. Please update jupyter and ipywidgets. See https://ipywidgets.readthedocs.io/en/stable/user_install.html\n",
      "  from .autonotebook import tqdm as notebook_tqdm\n"
     ]
    }
   ],
   "source": [
    "# notebooks/embed_index_modular.ipynb\n",
    "\n",
    "from embedding import EmbeddingModel\n",
    "from chunking import  batch_chunk_texts,chunk_with_langchain\n",
    "from indexing import FaissIndexer\n",
    "import pandas as pd\n",
    "from tqdm import tqdm\n",
    "import os\n",
    "\n",
    "# --- Config ---\n",
    "CSV_PATH = r\"C:\\Users\\ABC\\Desktop\\10Acadamy\\week_6\\Intelligent-Complaint-Analysis-for-Financial-Services\\data\\clean\\complaints_clean.csv\"\n",
    "INDEX_PATH = r\"C:\\Users\\ABC\\Desktop\\10Acadamy\\week_6\\Intelligent-Complaint-Analysis-for-Financial-Services\\data\\clean\\vector_store\\index_300_50.faiss\"\n",
    "META_PATH = r\"C:\\Users\\ABC\\Desktop\\10Acadamy\\week_6\\Intelligent-Complaint-Analysis-for-Financial-Services\\data\\clean\\vector_store\\meta_300_50.csv\"\n",
    "CHUNK_SIZE = 300\n",
    "CHUNK_OVERLAP = 50\n",
    "CHUNKSIZE = 1000\n",
    "SAMPLE_SIZE = 5000\n",
    "\n"
   ]
  },
  {
   "cell_type": "markdown",
   "id": "5a4ea045",
   "metadata": {},
   "source": [
    "### 🛠️ Pipeline Steps\n",
    "\n",
    "1. **Read Sample Data**:\n",
    "   - Load up to 5,000 complaint records using pandas.\n",
    "\n",
    "2. **Chunking**:\n",
    "   - For each record, extract the `\"Consumer complaint narrative\"`.\n",
    "   - Use the `chunk_with_langchain()` function to split the text into overlapping chunks.\n",
    "   - Track metadata (`Complaint ID`, `Product`, chunk text).\n",
    "\n",
    "3. **Embedding**:\n",
    "   - Use the `EmbeddingModel` class to encode each chunk.\n",
    "   - The embedding model used is assumed to be `sentence-transformers/all-MiniLM-L6-v2`.\n",
    "\n",
    "4. **Indexing**:\n",
    "   - Use `FaissIndexer` to store embeddings.\n",
    "   - Embeddings are indexed with FAISS for fast similarity search.\n",
    "   - Metadata is saved to a `.csv` file for traceability.\n",
    "\n",
    "---\n",
    "\n",
    "### 📂 Modular Design\n",
    "\n",
    "This notebook leverages a modular design by importing from custom Python modules:\n",
    "- `embedding.py` → Embedding logic.\n",
    "- `chunking.py` → Text splitting logic using LangChain.\n",
    "- `indexing.py` → FAISS indexing and metadata handling.\n",
    "\n",
    "This ensures easy reuse and scalability in downstream scripts.\n",
    "\n",
    "---"
   ]
  },
  {
   "cell_type": "code",
   "execution_count": 3,
   "id": "2121502d",
   "metadata": {},
   "outputs": [],
   "source": [
    "os.makedirs(\"vector_store\", exist_ok=True)\n",
    "df_sample = pd.read_csv(CSV_PATH, nrows=SAMPLE_SIZE)\n",
    "embedder = EmbeddingModel()\n",
    "indexer = FaissIndexer(dim=embedder.get_dimension())\n",
    "\n",
    "for i in range(0, len(df_sample), CHUNKSIZE):\n",
    "    df = df_sample.iloc[i:i+CHUNKSIZE]\n",
    "    chunk_texts = []\n",
    "    chunk_meta = []\n",
    "\n",
    "    for _, row in df.iterrows():\n",
    "        complaint_id = row.get(\"Complaint ID\")\n",
    "        product = row.get(\"Product\")\n",
    "        text = row.get(\"Consumer complaint narrative\", \"\")\n",
    "\n",
    "        if not isinstance(text, str) or not text.strip():\n",
    "            continue\n",
    "\n",
    "        chunks = chunk_with_langchain(text, chunk_size=CHUNK_SIZE, chunk_overlap=CHUNK_OVERLAP)\n",
    "        for chunk in chunks:\n",
    "            chunk_texts.append(chunk)\n",
    "            chunk_meta.append({\n",
    "                \"complaint_id\": complaint_id,\n",
    "                \"product\": product,\n",
    "                \"chunk_text\": chunk\n",
    "            })\n",
    "\n",
    "    if chunk_texts:\n",
    "        embeddings = embedder.encode(chunk_texts)\n",
    "        indexer.add(embeddings, chunk_meta)\n",
    "\n"
   ]
  },
  {
   "cell_type": "markdown",
   "id": "aa7567bd",
   "metadata": {},
   "source": [
    " Notes\n",
    "\n",
    "- Non-string or empty complaint texts are skipped.\n",
    "- Progress is shown using `tqdm` if desired.\n",
    "- The final FAISS index and metadata file are saved and can be used in the RAG pipeline's retriever module.\n",
    "\n",
    "---\n",
    "\n",
    "### Use Case\n",
    "This indexing logic will later be used to:\n",
    "- Perform semantic similarity search based on user questions.\n",
    "- Retrieve relevant complaint chunks to feed into a language model for answer generation.\n",
    "\n",
    "---"
   ]
  },
  {
   "cell_type": "code",
   "execution_count": 4,
   "id": "087b078d",
   "metadata": {},
   "outputs": [
    {
     "name": "stdout",
     "output_type": "stream",
     "text": [
      "\n",
      "✅ Saved FAISS index to C:\\Users\\ABC\\Desktop\\10Acadamy\\week_6\\Intelligent-Complaint-Analysis-for-Financial-Services\\data\\clean\\vector_store\\index_300_50.faiss and metadata to C:\\Users\\ABC\\Desktop\\10Acadamy\\week_6\\Intelligent-Complaint-Analysis-for-Financial-Services\\data\\clean\\vector_store\\meta_300_50.csv\n",
      "\n",
      "✅ Embedding and indexing completed.\n"
     ]
    }
   ],
   "source": [
    "indexer.save(INDEX_PATH, META_PATH)\n",
    "print(\"\\n✅ Embedding and indexing completed.\")\n"
   ]
  }
 ],
 "metadata": {
  "kernelspec": {
   "display_name": "venv",
   "language": "python",
   "name": "python3"
  },
  "language_info": {
   "codemirror_mode": {
    "name": "ipython",
    "version": 3
   },
   "file_extension": ".py",
   "mimetype": "text/x-python",
   "name": "python",
   "nbconvert_exporter": "python",
   "pygments_lexer": "ipython3",
   "version": "3.13.2"
  }
 },
 "nbformat": 4,
 "nbformat_minor": 5
}
