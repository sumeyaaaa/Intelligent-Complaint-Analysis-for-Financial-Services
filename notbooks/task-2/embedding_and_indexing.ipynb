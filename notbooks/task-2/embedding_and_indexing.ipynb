{
 "cells": [
  {
   "cell_type": "markdown",
   "id": "5a03f949",
   "metadata": {},
   "source": [
    "##  Embedding and Indexing Script\n",
    "\n",
    "###  Objective\n",
    "This notebook processes consumer complaint narratives by:\n",
    "1. Chunking the text data using a consistent strategy.\n",
    "2. Embedding each chunk using a pre-defined embedding model.\n",
    "3. Storing the embeddings in a FAISS vector index along with associated metadata for future semantic search and retrieval.\n"
   ]
  },
  {
   "cell_type": "code",
   "execution_count": 18,
   "id": "30d75379",
   "metadata": {},
   "outputs": [
    {
     "name": "stdout",
     "output_type": "stream",
     "text": [
      "src path added: c:\\Users\\ABC\\Desktop\\10Acadamy\\week_6\\Intelligent-Complaint-Analysis-for-Financial-Services\\src\n"
     ]
    }
   ],
   "source": [
    "import sys\n",
    "import os\n",
    "\n",
    "# Go two levels up from the notebook to the project root\n",
    "project_root = os.path.abspath(os.path.join(os.getcwd(), \"../..\"))\n",
    "\n",
    "# Join the path to 'src'\n",
    "src_path = os.path.join(project_root, \"src\")\n",
    "\n",
    "# Add 'src' to Python path\n",
    "if src_path not in sys.path:\n",
    "    sys.path.append(src_path)\n",
    "\n",
    "# Confirm it's added\n",
    "print(\"src path added:\", src_path)\n"
   ]
  },
  {
   "cell_type": "markdown",
   "id": "c13da4d2",
   "metadata": {},
   "source": [
    "### ⚙️ Configuration\n",
    "\n",
    "- **Input File**:  \n",
    "  `complaints_clean.csv`  \n",
    "  Path:  \n",
    "  `C:\\Users\\ABC\\Desktop\\10Acadamy\\week_6\\Intelligent-Complaint-Analysis-for-Financial-Services\\data\\clean\\complaints_clean.csv`\n",
    "\n",
    "- **Chunking Parameters**:\n",
    "  - `chunk_size = 300`\n",
    "  - `chunk_overlap = 50`\n",
    "  - `chunks_per_loop = 1000`\n",
    "  - `sample_limit = 5000` (samples total to process)\n",
    "\n",
    "- **Output Paths**:\n",
    "  - FAISS Index:  \n",
    "    `vector_store/index_300_50.faiss`\n",
    "  - Metadata CSV:  \n",
    "    `vector_store/meta_300_50.csv`\n",
    "\n",
    "---\n"
   ]
  },
  {
   "cell_type": "code",
   "execution_count": 19,
   "id": "0cd10d7c",
   "metadata": {},
   "outputs": [],
   "source": [
    "# notebooks/embed_index_modular.ipynb\n",
    "\n",
    "from embedding import EmbeddingModel\n",
    "from chunking import  batch_chunk_texts,chunk_with_langchain\n",
    "from indexing import FaissIndexer\n",
    "import pandas as pd\n",
    "from tqdm import tqdm\n",
    "import os\n",
    "\n",
    "\n"
   ]
  },
  {
   "cell_type": "markdown",
   "id": "5a4ea045",
   "metadata": {},
   "source": [
    "### 🛠️ Pipeline Steps\n",
    "\n",
    "1. **Read Sample Data**:\n",
    "   - Load up to 5,000 complaint records using pandas.\n",
    "\n",
    "2. **Chunking**:\n",
    "   - For each record, extract the `\"Consumer complaint narrative\"`.\n",
    "   - Use the `chunk_with_langchain()` function to split the text into overlapping chunks.\n",
    "   - Track metadata (`Complaint ID`, `Product`, chunk text).\n",
    "\n",
    "3. **Embedding**:\n",
    "   - Use the `EmbeddingModel` class to encode each chunk.\n",
    "   - The embedding model used is assumed to be `sentence-transformers/all-MiniLM-L6-v2`.\n",
    "\n",
    "4. **Indexing**:\n",
    "   - Use `FaissIndexer` to store embeddings.\n",
    "   - Embeddings are indexed with FAISS for fast similarity search.\n",
    "   - Metadata is saved to a `.csv` file for traceability.\n",
    "\n",
    "---\n",
    "\n",
    "### 📂 Modular Design\n",
    "\n",
    "This notebook leverages a modular design by importing from custom Python modules:\n",
    "- `embedding.py` → Embedding logic.\n",
    "- `chunking.py` → Text splitting logic using LangChain.\n",
    "- `indexing.py` → FAISS indexing and metadata handling.\n",
    "\n",
    "This ensures easy reuse and scalability in downstream scripts.\n",
    "\n",
    "---"
   ]
  },
  {
   "cell_type": "code",
   "execution_count": 20,
   "id": "20f77829",
   "metadata": {},
   "outputs": [],
   "source": [
    "import yaml\n",
    "CONFIG_PATH = \"../../config.yaml\"\n",
    "\n",
    "# Load the configuration from the YAML file\n",
    "with open(CONFIG_PATH, 'r') as f:\n",
    "    config = yaml.safe_load(f)\n"
   ]
  },
  {
   "cell_type": "code",
   "execution_count": 21,
   "id": "2121502d",
   "metadata": {},
   "outputs": [
    {
     "name": "stdout",
     "output_type": "stream",
     "text": [
      "Correctly constructed full path: ../..\\data/clean/complaints_clean.csv\n",
      "Loading the full dataset...\n",
      "Loaded 445576 records.\n"
     ]
    }
   ],
   "source": [
    "os.makedirs(\"vector_store\", exist_ok=True)\n",
    "# NEW CODE\n",
    "# Load config from your YAML file first...\n",
    "\n",
    "# --- Path Construction (Corrected) ---\n",
    "# Get the relative path from the config file\n",
    "relative_csv_path = config['data']['csv_path']\n",
    "\n",
    "# Construct the correct path from the notebook's location\n",
    "# Go up one directory ('..') and then join with the path from the config\n",
    "full_csv_path = os.path.join(\"../..\", relative_csv_path)\n",
    "\n",
    "print(f\"Correctly constructed full path: {full_csv_path}\")\n",
    "\n",
    "# --- Data Loading (Using the new correct path) ---\n",
    "sample_size_from_config = config['processing']['sample_size']\n",
    "\n",
    "if sample_size_from_config:\n",
    "    print(f\"Loading {sample_size_from_config} samples...\")\n",
    "    df_full = pd.read_csv(full_csv_path, nrows=sample_size_from_config)\n",
    "else:\n",
    "    print(\"Loading the full dataset...\")\n",
    "    df_full = pd.read_csv(full_csv_path)\n",
    "\n",
    "print(f\"Loaded {len(df_full)} records.\")\n",
    "\n"
   ]
  },
  {
   "cell_type": "code",
   "execution_count": 24,
   "id": "f3bbca24",
   "metadata": {},
   "outputs": [
    {
     "name": "stdout",
     "output_type": "stream",
     "text": [
      "Embedding Model: BAAI/bge-large-en-v1.5\n",
      "Index Path: data/vector_store/index_bge_large_300_20.faiss\n",
      "Metadata Path: data/vector_store/meta_bge_large_300_20.csv\n"
     ]
    }
   ],
   "source": [
    "\n",
    "\n",
    "# Access the nested keys for the embedding model\n",
    "model_name = config['embedding']['model_name']\n",
    "\n",
    "# Access the nested keys for the output paths\n",
    "index_path = config['output']['index_path']\n",
    "meta_path = config['output']['meta_path']\n",
    "\n",
    "# --- Verification ---\n",
    "# Print the loaded values to confirm they are correct\n",
    "print(f\"Embedding Model: {model_name}\")\n",
    "print(f\"Index Path: {index_path}\")\n",
    "print(f\"Metadata Path: {meta_path}\")"
   ]
  },
  {
   "cell_type": "markdown",
   "id": "aa7567bd",
   "metadata": {},
   "source": [
    " Notes\n",
    "\n",
    "- Non-string or empty complaint texts are skipped.\n",
    "- Progress is shown using `tqdm` if desired.\n",
    "- The final FAISS index and metadata file are saved and can be used in the RAG pipeline's retriever module.\n",
    "\n",
    "---\n",
    "\n",
    "### Use Case\n",
    "This indexing logic will later be used to:\n",
    "- Perform semantic similarity search based on user questions.\n",
    "- Retrieve relevant complaint chunks to feed into a language model for answer generation.\n",
    "\n",
    "---"
   ]
  },
  {
   "cell_type": "code",
   "execution_count": null,
   "id": "087b078d",
   "metadata": {},
   "outputs": [
    {
     "name": "stdout",
     "output_type": "stream",
     "text": [
      "\n",
      "✅ Saved FAISS index to C:\\Users\\ABC\\Desktop\\10Acadamy\\week_6\\Intelligent-Complaint-Analysis-for-Financial-Services\\data\\clean\\vector_store\\index_300_50.faiss and metadata to C:\\Users\\ABC\\Desktop\\10Acadamy\\week_6\\Intelligent-Complaint-Analysis-for-Financial-Services\\data\\clean\\vector_store\\meta_300_50.csv\n",
      "\n",
      "✅ Embedding and indexing completed.\n"
     ]
    }
   ],
   "source": [
    "indexer.save(INDEX_PATH, META_PATH)\n",
    "print(\"\\n✅ Embedding and indexing completed.\")\n"
   ]
  }
 ],
 "metadata": {
  "kernelspec": {
   "display_name": "venv",
   "language": "python",
   "name": "python3"
  },
  "language_info": {
   "codemirror_mode": {
    "name": "ipython",
    "version": 3
   },
   "file_extension": ".py",
   "mimetype": "text/x-python",
   "name": "python",
   "nbconvert_exporter": "python",
   "pygments_lexer": "ipython3",
   "version": "3.13.2"
  }
 },
 "nbformat": 4,
 "nbformat_minor": 5
}
